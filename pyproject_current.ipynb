{
 "cells": [
  {
   "cell_type": "markdown",
   "id": "78852472",
   "metadata": {},
   "source": [
    "## Introduction to Dataset\n",
    "This dataset contains yearly data across 5 categories - electricity generation, capacity, emissions, import and demand data for over 200 geographies from the years 2000 through 2021. \n",
    "\n",
    "#### Source:\n",
    "Data is collected from multi-country datasets (EIA, Eurostat, BP, UN) as well as national sources (e.g China data from the National Bureau of Statistics).\n",
    "Link to source: https://ember-climate.org/data-catalogue/yearly-electricity-data/\n",
    "\n",
    "The dataset has 7 numerical columns (integer or float), 8 string columns.\n",
    "\n",
    "Of these 7 numerical columns, we have 1 Timeline column (Year, which has int values), 4 columns that have 0/1 values and 2 decimal columns."
   ]
  },
  {
   "cell_type": "code",
   "execution_count": 1,
   "id": "b8ed5ad1",
   "metadata": {},
   "outputs": [],
   "source": [
    "# Importing Libraries\n",
    "import pandas as pd\n",
    "import numpy as np\n",
    "import matplotlib.pyplot as plt"
   ]
  },
  {
   "cell_type": "code",
   "execution_count": 2,
   "id": "2dc027c3",
   "metadata": {
    "scrolled": true
   },
   "outputs": [],
   "source": [
    "electric_data = pd.read_csv(\"Final.csv\")\n",
    "# electric_data"
   ]
  },
  {
   "cell_type": "code",
   "execution_count": 3,
   "id": "c9a5aca3",
   "metadata": {},
   "outputs": [
    {
     "data": {
      "text/plain": [
       "Index(['Area', 'Country code', 'Year', 'Area type', 'Continent',\n",
       "       'Ember region', 'EU', 'OECD', 'G20', 'G7', 'Category', 'Subcategory',\n",
       "       'Variable', 'Unit', 'Value', 'YoY absolute change'],\n",
       "      dtype='object')"
      ]
     },
     "execution_count": 3,
     "metadata": {},
     "output_type": "execute_result"
    }
   ],
   "source": [
    "electric_data.columns\n",
    "# column info"
   ]
  },
  {
   "cell_type": "code",
   "execution_count": 4,
   "id": "49f2e16f",
   "metadata": {},
   "outputs": [
    {
     "data": {
      "text/plain": [
       "Index(['area', 'country_code', 'year', 'area_type', 'continent',\n",
       "       'ember_region', 'eu', 'oecd', 'G20', 'G7', 'category', 'subcategory',\n",
       "       'variable', 'unit', 'value', 'yoy_abs_change'],\n",
       "      dtype='object')"
      ]
     },
     "execution_count": 4,
     "metadata": {},
     "output_type": "execute_result"
    }
   ],
   "source": [
    "# Renaming the columns to remove any white spaces\n",
    "electric_data.rename(\n",
    "\n",
    "    columns={\"Area\":\"area\",\"Country code\":\"country_code\",\"Year\":\"year\",\n",
    "             \"Area type\":\"area_type\",\"Continent\":\"continent\",\"Ember region\":\"ember_region\",\n",
    "             \"EU\":\"eu\",\"OECD\":\"oecd\",\"G20 \":\"g20\",\"G7 \":\"g7\",\n",
    "             \"Category\":\"category\",\"Subcategory\":\"subcategory\",\"Variable\":\"variable\",\n",
    "             \"Unit\":\"unit\",\"Value\":\"value\", \"YoY absolute change\": \"yoy_abs_change\"},\n",
    "    inplace=True)\n",
    "\n",
    "electric_data.columns"
   ]
  },
  {
   "cell_type": "code",
   "execution_count": 5,
   "id": "d04bc558",
   "metadata": {},
   "outputs": [
    {
     "data": {
      "text/plain": [
       "0         Afghanistan\n",
       "1         Afghanistan\n",
       "2         Afghanistan\n",
       "3         Afghanistan\n",
       "4         Afghanistan\n",
       "             ...     \n",
       "323525       Zimbabwe\n",
       "323526       Zimbabwe\n",
       "323527       Zimbabwe\n",
       "323528       Zimbabwe\n",
       "323529       Zimbabwe\n",
       "Name: area, Length: 323530, dtype: object"
      ]
     },
     "execution_count": 5,
     "metadata": {},
     "output_type": "execute_result"
    }
   ],
   "source": [
    "electric_data.area"
   ]
  },
  {
   "cell_type": "code",
   "execution_count": 6,
   "id": "75f5a76e",
   "metadata": {},
   "outputs": [
    {
     "name": "stdout",
     "output_type": "stream",
     "text": [
      "<class 'pandas.core.frame.DataFrame'>\n",
      "RangeIndex: 323530 entries, 0 to 323529\n",
      "Data columns (total 16 columns):\n",
      " #   Column          Non-Null Count   Dtype  \n",
      "---  ------          --------------   -----  \n",
      " 0   area            323530 non-null  object \n",
      " 1   country_code    307558 non-null  object \n",
      " 2   year            323530 non-null  int64  \n",
      " 3   area_type       323530 non-null  object \n",
      " 4   continent       307558 non-null  object \n",
      " 5   ember_region    307558 non-null  object \n",
      " 6   eu              307558 non-null  float64\n",
      " 7   oecd            307558 non-null  float64\n",
      " 8   G20             307558 non-null  float64\n",
      " 9   G7              307558 non-null  float64\n",
      " 10  category        323530 non-null  object \n",
      " 11  subcategory     323530 non-null  object \n",
      " 12  variable        323530 non-null  object \n",
      " 13  unit            323530 non-null  object \n",
      " 14  value           302755 non-null  float64\n",
      " 15  yoy_abs_change  219737 non-null  float64\n",
      "dtypes: float64(6), int64(1), object(9)\n",
      "memory usage: 39.5+ MB\n"
     ]
    }
   ],
   "source": [
    "# Information regarding the dataset\n",
    "electric_data.info()"
   ]
  },
  {
   "cell_type": "code",
   "execution_count": 7,
   "id": "97c73dbd",
   "metadata": {},
   "outputs": [
    {
     "data": {
      "text/plain": [
       "area                   0\n",
       "country_code       15972\n",
       "year                   0\n",
       "area_type              0\n",
       "continent          15972\n",
       "ember_region       15972\n",
       "eu                 15972\n",
       "oecd               15972\n",
       "G20                15972\n",
       "G7                 15972\n",
       "category               0\n",
       "subcategory            0\n",
       "variable               0\n",
       "unit                   0\n",
       "value              20775\n",
       "yoy_abs_change    103793\n",
       "dtype: int64"
      ]
     },
     "execution_count": 7,
     "metadata": {},
     "output_type": "execute_result"
    }
   ],
   "source": [
    "electric_data.isna().sum()"
   ]
  },
  {
   "cell_type": "code",
   "execution_count": 8,
   "id": "f39f8b28",
   "metadata": {},
   "outputs": [
    {
     "data": {
      "text/plain": [
       "area                   0\n",
       "country_code       15972\n",
       "year                   0\n",
       "area_type              0\n",
       "continent          15972\n",
       "ember_region       15972\n",
       "eu                 15972\n",
       "oecd               15972\n",
       "G20                15972\n",
       "G7                 15972\n",
       "category               0\n",
       "subcategory            0\n",
       "variable               0\n",
       "unit                   0\n",
       "value              20775\n",
       "yoy_abs_change    103793\n",
       "dtype: int64"
      ]
     },
     "execution_count": 8,
     "metadata": {},
     "output_type": "execute_result"
    }
   ],
   "source": [
    "electric_data.isnull().sum()"
   ]
  },
  {
   "cell_type": "code",
   "execution_count": 9,
   "id": "04ccc238",
   "metadata": {},
   "outputs": [
    {
     "data": {
      "text/plain": [
       "236372"
      ]
     },
     "execution_count": 9,
     "metadata": {},
     "output_type": "execute_result"
    }
   ],
   "source": [
    "electric_data.isnull().sum().sum()"
   ]
  },
  {
   "cell_type": "code",
   "execution_count": 10,
   "id": "9f59be15",
   "metadata": {},
   "outputs": [
    {
     "data": {
      "text/plain": [
       "5176480"
      ]
     },
     "execution_count": 10,
     "metadata": {},
     "output_type": "execute_result"
    }
   ],
   "source": [
    "electric_data.size"
   ]
  },
  {
   "cell_type": "code",
   "execution_count": 11,
   "id": "d727dfaa",
   "metadata": {},
   "outputs": [
    {
     "data": {
      "text/plain": [
       "(323530, 16)"
      ]
     },
     "execution_count": 11,
     "metadata": {},
     "output_type": "execute_result"
    }
   ],
   "source": [
    "electric_data.shape"
   ]
  },
  {
   "cell_type": "markdown",
   "id": "8c7310b7",
   "metadata": {},
   "source": [
    "Percentage of missing values is around 4.5%"
   ]
  },
  {
   "cell_type": "code",
   "execution_count": 12,
   "id": "605106c4",
   "metadata": {},
   "outputs": [
    {
     "data": {
      "text/plain": [
       "4.566268970420054"
      ]
     },
     "execution_count": 12,
     "metadata": {},
     "output_type": "execute_result"
    }
   ],
   "source": [
    "\n",
    "electric_data.isnull().sum().sum()/electric_data.size * 100"
   ]
  },
  {
   "cell_type": "markdown",
   "id": "a041f2eb",
   "metadata": {},
   "source": [
    "## Cleaning and Handling missing values in the dataset\n",
    "\n",
    "Cleaning has been split into multiple cell based on the category and subcategories of data.\n",
    "Explanation has been provided for each cell."
   ]
  },
  {
   "cell_type": "markdown",
   "id": "dec103f5",
   "metadata": {},
   "source": [
    "The following code shows that the for the area_type as 'Region', the corresponding country codes would be null as they are not applicable.\n"
   ]
  },
  {
   "cell_type": "code",
   "execution_count": 13,
   "id": "c56326cd",
   "metadata": {},
   "outputs": [
    {
     "name": "stdout",
     "output_type": "stream",
     "text": [
      "15972\n",
      "15972\n"
     ]
    }
   ],
   "source": [
    "count = 0\n",
    "for el in electric_data['area_type']:\n",
    "    if el == 'Region':\n",
    "        count += 1\n",
    "print(count)\n",
    "\n",
    "print(electric_data.country_code.isnull().sum())"
   ]
  },
  {
   "cell_type": "markdown",
   "id": "637f6009",
   "metadata": {},
   "source": [
    "The country specific columns like 'EU', 'OCED', 'G20' and 'G7' have 2 values (0 or 1) indicationg whether a country is part of these groups or not. For the Area Type as 'Region', the country specific columns have been marked as -1(denoting 'not applicable')"
   ]
  },
  {
   "cell_type": "code",
   "execution_count": 14,
   "id": "8b1bf2c3",
   "metadata": {},
   "outputs": [],
   "source": [
    "cols = ['eu', 'oecd', 'G20', 'G7'] \n",
    "\n",
    "for column in cols:\n",
    "    electric_data[column].fillna(value='-1', inplace=True)"
   ]
  },
  {
   "cell_type": "markdown",
   "id": "a8483ca1",
   "metadata": {},
   "source": [
    "Country Code represents are 3-letter abbreviations for denoting the countries. For Area Type as 'Regions', these country codes are not applicable, and hence are filled by 'NA'.\n",
    "\n",
    "Ember Regions are defined in by the source of the dataset: https://ember-climate.org/countries-and-regions/\n",
    "The value of the ember_region column denotes whether the country is a part of the region or not. For Area Type as Region, this column will also not have a value and therefore is filled as 'NA'\n",
    "\n"
   ]
  },
  {
   "cell_type": "code",
   "execution_count": 15,
   "id": "93e17813",
   "metadata": {},
   "outputs": [],
   "source": [
    "cols = ['country_code','ember_region']\n",
    "\n",
    "for col in cols:\n",
    "    electric_data[col].fillna(value='NA', inplace=True)"
   ]
  },
  {
   "cell_type": "markdown",
   "id": "2852e9ce",
   "metadata": {},
   "source": [
    "The values for Continent are filled with the appropriate values wherever possible. Else the values are filled with 'NA' for regions which are not part of a particular continent"
   ]
  },
  {
   "cell_type": "code",
   "execution_count": 16,
   "id": "b011c166",
   "metadata": {},
   "outputs": [],
   "source": [
    "areas = ['Asia','Africa','Europe','Oceania','North America']\n",
    "electric_data['continent'] = electric_data.apply(\n",
    "    lambda row: row['area'] if row['area_type'] == 'Region' and row['area'] in areas else row['continent'],\n",
    "    axis=1)\n",
    "\n",
    "electric_data['continent'] = electric_data.apply(\n",
    "    lambda row:'Europe' if row['area_type'] == 'Region' and row['area']=='EU' else row['continent'],\n",
    "    axis=1)\n",
    "\n",
    "\n",
    "electric_data['continent'] = electric_data.apply(\n",
    "    lambda row:'NA' if row['area_type'] == 'Region' and not np.all(pd.notnull(row['continent'])) else row['continent'],\n",
    "    axis=1)\n"
   ]
  },
  {
   "cell_type": "code",
   "execution_count": 17,
   "id": "cbcbedb0",
   "metadata": {},
   "outputs": [],
   "source": [
    "# Electricity import data is only available per country, for all regions, compute year-wise sum for all countries in that resion \n",
    "\n",
    "df2 = electric_data.query(\"area_type == 'Country' and category == 'Electricity imports' and subcategory == 'Electricity imports' and variable == 'Net Imports'\")\n",
    "\n",
    "unstacked = df2.groupby(['year','continent']).agg(agg_imports=('value','sum')).unstack()\n",
    "\n",
    "agg_imports_grid = unstacked.agg_imports.rename_axis([None], axis=1).reset_index()\n",
    "\n",
    "yrs = agg_imports_grid['year'].unique().tolist()\n",
    "continents = ['Africa','Asia','Europe','North America','Oceania','South America']\n",
    "\n",
    "# enter continent-wise, year-wise sums in the dictionary\n",
    "mega_dict = dict()\n",
    "\n",
    "for cnt in continents:\n",
    "    mega_dict[cnt] = dict()\n",
    "    for y in yrs:\n",
    "        mega_dict[cnt][y] = agg_imports_grid.query(\"year == @y\")[cnt].values[0]\n",
    "        \n",
    "# Apply the sum values\n",
    "electric_data['value'] = electric_data.apply(\n",
    "    lambda row: mega_dict[row['area']][row['year']] if row['category'] == 'Electricity imports' and row['area_type'] == 'Region' and row['area'] in continents \n",
    "    and not np.all(pd.notnull(row['value'])) else row['value'],\n",
    "    axis=1) \n"
   ]
  },
  {
   "cell_type": "code",
   "execution_count": 18,
   "id": "37908183",
   "metadata": {
    "scrolled": true
   },
   "outputs": [
    {
     "data": {
      "text/plain": [
       "area                   0\n",
       "country_code           0\n",
       "year                   0\n",
       "area_type              0\n",
       "continent              0\n",
       "ember_region           0\n",
       "eu                     0\n",
       "oecd                   0\n",
       "G20                    0\n",
       "G7                     0\n",
       "category               0\n",
       "subcategory            0\n",
       "variable               0\n",
       "unit                   0\n",
       "value              20665\n",
       "yoy_abs_change    103793\n",
       "dtype: int64"
      ]
     },
     "execution_count": 18,
     "metadata": {},
     "output_type": "execute_result"
    }
   ],
   "source": [
    "electric_data.isna().sum()"
   ]
  },
  {
   "cell_type": "markdown",
   "id": "ce8a24e7",
   "metadata": {},
   "source": [
    "For the first data year (2000), yoy_abs_change is undefined since there is no data for previous year, therefore setting it as 0\n",
    "SPECIAL CASES - countries established after data start period (Montenegro, South Sudan and Timor-Leste), yoy_abs_change values for their start year will be zero\n"
   ]
  },
  {
   "cell_type": "code",
   "execution_count": 19,
   "id": "92b5af25",
   "metadata": {},
   "outputs": [],
   "source": [
    "\n",
    "# for the first data year (2000), yoy_abs_change is undefined since there is no data for previous year, therefore setting it as 0\n",
    "electric_data['yoy_abs_change'] = electric_data.apply(\n",
    "    lambda row: 0 if row['year'] == 2000 else row['yoy_abs_change'],\n",
    "    axis=1)\n",
    "\n",
    "# SPECIAL CASES - countries established after data start period (Montenegro, South Sudan and Timor-Leste), yoy_abs_change values for their start year will be zero\n",
    "\n",
    "# Montengro\n",
    "electric_data['yoy_abs_change'] = electric_data.apply(\n",
    "    lambda row: 0 if row['country_code'] == 'MNE' and row['year'] == 2005 else row['yoy_abs_change'],\n",
    "    axis=1)\n",
    "\n",
    "# South Sudan\n",
    "electric_data['yoy_abs_change'] = electric_data.apply(\n",
    "    lambda row: 0 if row['country_code'] == 'SSD' and row['year'] == 2012 else row['yoy_abs_change'],\n",
    "    axis=1)\n",
    "\n",
    "# Timor-Leste\n",
    "electric_data['yoy_abs_change'] = electric_data.apply(\n",
    "    lambda row: 0 if row['country_code'] == 'TLS' and row['year'] == 2003 else row['yoy_abs_change'],\n",
    "    axis=1)"
   ]
  },
  {
   "cell_type": "markdown",
   "id": "865cca39",
   "metadata": {},
   "source": [
    "Detailed capacity distribution data is missing for all 20 years for multiple countries (approx 19000 rows) - a couple of examples of such data is shown in the below cell"
   ]
  },
  {
   "cell_type": "code",
   "execution_count": 20,
   "id": "58a88585",
   "metadata": {},
   "outputs": [
    {
     "data": {
      "text/html": [
       "<div>\n",
       "<style scoped>\n",
       "    .dataframe tbody tr th:only-of-type {\n",
       "        vertical-align: middle;\n",
       "    }\n",
       "\n",
       "    .dataframe tbody tr th {\n",
       "        vertical-align: top;\n",
       "    }\n",
       "\n",
       "    .dataframe thead th {\n",
       "        text-align: right;\n",
       "    }\n",
       "</style>\n",
       "<table border=\"1\" class=\"dataframe\">\n",
       "  <thead>\n",
       "    <tr style=\"text-align: right;\">\n",
       "      <th></th>\n",
       "      <th>area</th>\n",
       "      <th>country_code</th>\n",
       "      <th>year</th>\n",
       "      <th>area_type</th>\n",
       "      <th>continent</th>\n",
       "      <th>ember_region</th>\n",
       "      <th>eu</th>\n",
       "      <th>oecd</th>\n",
       "      <th>G20</th>\n",
       "      <th>G7</th>\n",
       "      <th>category</th>\n",
       "      <th>subcategory</th>\n",
       "      <th>variable</th>\n",
       "      <th>unit</th>\n",
       "      <th>value</th>\n",
       "      <th>yoy_abs_change</th>\n",
       "    </tr>\n",
       "  </thead>\n",
       "  <tbody>\n",
       "    <tr>\n",
       "      <th>6</th>\n",
       "      <td>Afghanistan</td>\n",
       "      <td>AFG</td>\n",
       "      <td>2000</td>\n",
       "      <td>Country</td>\n",
       "      <td>Asia</td>\n",
       "      <td>Asia</td>\n",
       "      <td>0.0</td>\n",
       "      <td>0.0</td>\n",
       "      <td>0.0</td>\n",
       "      <td>0.0</td>\n",
       "      <td>Capacity</td>\n",
       "      <td>Fuel</td>\n",
       "      <td>Bioenergy</td>\n",
       "      <td>GW</td>\n",
       "      <td>NaN</td>\n",
       "      <td>0.0</td>\n",
       "    </tr>\n",
       "    <tr>\n",
       "      <th>7</th>\n",
       "      <td>Afghanistan</td>\n",
       "      <td>AFG</td>\n",
       "      <td>2000</td>\n",
       "      <td>Country</td>\n",
       "      <td>Asia</td>\n",
       "      <td>Asia</td>\n",
       "      <td>0.0</td>\n",
       "      <td>0.0</td>\n",
       "      <td>0.0</td>\n",
       "      <td>0.0</td>\n",
       "      <td>Capacity</td>\n",
       "      <td>Fuel</td>\n",
       "      <td>Coal</td>\n",
       "      <td>GW</td>\n",
       "      <td>NaN</td>\n",
       "      <td>0.0</td>\n",
       "    </tr>\n",
       "    <tr>\n",
       "      <th>8</th>\n",
       "      <td>Afghanistan</td>\n",
       "      <td>AFG</td>\n",
       "      <td>2000</td>\n",
       "      <td>Country</td>\n",
       "      <td>Asia</td>\n",
       "      <td>Asia</td>\n",
       "      <td>0.0</td>\n",
       "      <td>0.0</td>\n",
       "      <td>0.0</td>\n",
       "      <td>0.0</td>\n",
       "      <td>Capacity</td>\n",
       "      <td>Fuel</td>\n",
       "      <td>Gas</td>\n",
       "      <td>GW</td>\n",
       "      <td>NaN</td>\n",
       "      <td>0.0</td>\n",
       "    </tr>\n",
       "    <tr>\n",
       "      <th>10</th>\n",
       "      <td>Afghanistan</td>\n",
       "      <td>AFG</td>\n",
       "      <td>2000</td>\n",
       "      <td>Country</td>\n",
       "      <td>Asia</td>\n",
       "      <td>Asia</td>\n",
       "      <td>0.0</td>\n",
       "      <td>0.0</td>\n",
       "      <td>0.0</td>\n",
       "      <td>0.0</td>\n",
       "      <td>Capacity</td>\n",
       "      <td>Fuel</td>\n",
       "      <td>Nuclear</td>\n",
       "      <td>GW</td>\n",
       "      <td>NaN</td>\n",
       "      <td>0.0</td>\n",
       "    </tr>\n",
       "    <tr>\n",
       "      <th>12</th>\n",
       "      <td>Afghanistan</td>\n",
       "      <td>AFG</td>\n",
       "      <td>2000</td>\n",
       "      <td>Country</td>\n",
       "      <td>Asia</td>\n",
       "      <td>Asia</td>\n",
       "      <td>0.0</td>\n",
       "      <td>0.0</td>\n",
       "      <td>0.0</td>\n",
       "      <td>0.0</td>\n",
       "      <td>Capacity</td>\n",
       "      <td>Fuel</td>\n",
       "      <td>Other Renewables</td>\n",
       "      <td>GW</td>\n",
       "      <td>NaN</td>\n",
       "      <td>0.0</td>\n",
       "    </tr>\n",
       "    <tr>\n",
       "      <th>...</th>\n",
       "      <td>...</td>\n",
       "      <td>...</td>\n",
       "      <td>...</td>\n",
       "      <td>...</td>\n",
       "      <td>...</td>\n",
       "      <td>...</td>\n",
       "      <td>...</td>\n",
       "      <td>...</td>\n",
       "      <td>...</td>\n",
       "      <td>...</td>\n",
       "      <td>...</td>\n",
       "      <td>...</td>\n",
       "      <td>...</td>\n",
       "      <td>...</td>\n",
       "      <td>...</td>\n",
       "      <td>...</td>\n",
       "    </tr>\n",
       "    <tr>\n",
       "      <th>323412</th>\n",
       "      <td>Zimbabwe</td>\n",
       "      <td>ZWE</td>\n",
       "      <td>2020</td>\n",
       "      <td>Country</td>\n",
       "      <td>Africa</td>\n",
       "      <td>Africa</td>\n",
       "      <td>0.0</td>\n",
       "      <td>0.0</td>\n",
       "      <td>0.0</td>\n",
       "      <td>0.0</td>\n",
       "      <td>Capacity</td>\n",
       "      <td>Fuel</td>\n",
       "      <td>Wind</td>\n",
       "      <td>GW</td>\n",
       "      <td>NaN</td>\n",
       "      <td>NaN</td>\n",
       "    </tr>\n",
       "    <tr>\n",
       "      <th>323472</th>\n",
       "      <td>Zimbabwe</td>\n",
       "      <td>ZWE</td>\n",
       "      <td>2021</td>\n",
       "      <td>Country</td>\n",
       "      <td>Africa</td>\n",
       "      <td>Africa</td>\n",
       "      <td>0.0</td>\n",
       "      <td>0.0</td>\n",
       "      <td>0.0</td>\n",
       "      <td>0.0</td>\n",
       "      <td>Capacity</td>\n",
       "      <td>Fuel</td>\n",
       "      <td>Gas</td>\n",
       "      <td>GW</td>\n",
       "      <td>NaN</td>\n",
       "      <td>NaN</td>\n",
       "    </tr>\n",
       "    <tr>\n",
       "      <th>323474</th>\n",
       "      <td>Zimbabwe</td>\n",
       "      <td>ZWE</td>\n",
       "      <td>2021</td>\n",
       "      <td>Country</td>\n",
       "      <td>Africa</td>\n",
       "      <td>Africa</td>\n",
       "      <td>0.0</td>\n",
       "      <td>0.0</td>\n",
       "      <td>0.0</td>\n",
       "      <td>0.0</td>\n",
       "      <td>Capacity</td>\n",
       "      <td>Fuel</td>\n",
       "      <td>Nuclear</td>\n",
       "      <td>GW</td>\n",
       "      <td>NaN</td>\n",
       "      <td>NaN</td>\n",
       "    </tr>\n",
       "    <tr>\n",
       "      <th>323476</th>\n",
       "      <td>Zimbabwe</td>\n",
       "      <td>ZWE</td>\n",
       "      <td>2021</td>\n",
       "      <td>Country</td>\n",
       "      <td>Africa</td>\n",
       "      <td>Africa</td>\n",
       "      <td>0.0</td>\n",
       "      <td>0.0</td>\n",
       "      <td>0.0</td>\n",
       "      <td>0.0</td>\n",
       "      <td>Capacity</td>\n",
       "      <td>Fuel</td>\n",
       "      <td>Other Renewables</td>\n",
       "      <td>GW</td>\n",
       "      <td>NaN</td>\n",
       "      <td>NaN</td>\n",
       "    </tr>\n",
       "    <tr>\n",
       "      <th>323478</th>\n",
       "      <td>Zimbabwe</td>\n",
       "      <td>ZWE</td>\n",
       "      <td>2021</td>\n",
       "      <td>Country</td>\n",
       "      <td>Africa</td>\n",
       "      <td>Africa</td>\n",
       "      <td>0.0</td>\n",
       "      <td>0.0</td>\n",
       "      <td>0.0</td>\n",
       "      <td>0.0</td>\n",
       "      <td>Capacity</td>\n",
       "      <td>Fuel</td>\n",
       "      <td>Wind</td>\n",
       "      <td>GW</td>\n",
       "      <td>NaN</td>\n",
       "      <td>NaN</td>\n",
       "    </tr>\n",
       "  </tbody>\n",
       "</table>\n",
       "<p>198 rows × 16 columns</p>\n",
       "</div>"
      ],
      "text/plain": [
       "               area country_code  year area_type continent ember_region   eu  \\\n",
       "6       Afghanistan          AFG  2000   Country      Asia         Asia  0.0   \n",
       "7       Afghanistan          AFG  2000   Country      Asia         Asia  0.0   \n",
       "8       Afghanistan          AFG  2000   Country      Asia         Asia  0.0   \n",
       "10      Afghanistan          AFG  2000   Country      Asia         Asia  0.0   \n",
       "12      Afghanistan          AFG  2000   Country      Asia         Asia  0.0   \n",
       "...             ...          ...   ...       ...       ...          ...  ...   \n",
       "323412     Zimbabwe          ZWE  2020   Country    Africa       Africa  0.0   \n",
       "323472     Zimbabwe          ZWE  2021   Country    Africa       Africa  0.0   \n",
       "323474     Zimbabwe          ZWE  2021   Country    Africa       Africa  0.0   \n",
       "323476     Zimbabwe          ZWE  2021   Country    Africa       Africa  0.0   \n",
       "323478     Zimbabwe          ZWE  2021   Country    Africa       Africa  0.0   \n",
       "\n",
       "       oecd  G20   G7  category subcategory          variable unit  value  \\\n",
       "6       0.0  0.0  0.0  Capacity        Fuel         Bioenergy   GW    NaN   \n",
       "7       0.0  0.0  0.0  Capacity        Fuel              Coal   GW    NaN   \n",
       "8       0.0  0.0  0.0  Capacity        Fuel               Gas   GW    NaN   \n",
       "10      0.0  0.0  0.0  Capacity        Fuel           Nuclear   GW    NaN   \n",
       "12      0.0  0.0  0.0  Capacity        Fuel  Other Renewables   GW    NaN   \n",
       "...     ...  ...  ...       ...         ...               ...  ...    ...   \n",
       "323412  0.0  0.0  0.0  Capacity        Fuel              Wind   GW    NaN   \n",
       "323472  0.0  0.0  0.0  Capacity        Fuel               Gas   GW    NaN   \n",
       "323474  0.0  0.0  0.0  Capacity        Fuel           Nuclear   GW    NaN   \n",
       "323476  0.0  0.0  0.0  Capacity        Fuel  Other Renewables   GW    NaN   \n",
       "323478  0.0  0.0  0.0  Capacity        Fuel              Wind   GW    NaN   \n",
       "\n",
       "        yoy_abs_change  \n",
       "6                  0.0  \n",
       "7                  0.0  \n",
       "8                  0.0  \n",
       "10                 0.0  \n",
       "12                 0.0  \n",
       "...                ...  \n",
       "323412             NaN  \n",
       "323472             NaN  \n",
       "323474             NaN  \n",
       "323476             NaN  \n",
       "323478             NaN  \n",
       "\n",
       "[198 rows x 16 columns]"
      ]
     },
     "execution_count": 20,
     "metadata": {},
     "output_type": "execute_result"
    }
   ],
   "source": [
    "example_missing_countries = ['AFG', 'ZWE']\n",
    "electric_data.query(\"category == 'Capacity' and value.isnull() and country_code == @example_missing_countries\")"
   ]
  },
  {
   "cell_type": "markdown",
   "id": "b002ae44",
   "metadata": {},
   "source": [
    "Since granular data for an entire category (Capacity) is missing for all the years for only these countries, and the missing data is very specific - for e.g. the Capacity of Bioenergy Fuel for generation of eletricity in 2001 for Bahrain, it would be better to fill in these specific missing values with zeroes instead of any aggregate measure like mean so as to avoid introducing any distortions in the data.\n",
    "Also, since there is no value, the column yoy_abs_change should also be made 0 for such rows."
   ]
  },
  {
   "cell_type": "code",
   "execution_count": 21,
   "id": "916d4dcc",
   "metadata": {},
   "outputs": [],
   "source": [
    "# make yoy_abs_change and value 0 for rows having blank values in the category 'Capacity'\n",
    "electric_data['yoy_abs_change'] = electric_data.apply(\n",
    "    lambda row: 0 if not np.all(pd.notnull(row['value'])) and row['category'] == 'Capacity' else row['yoy_abs_change'],\n",
    "    axis=1)\n",
    "\n",
    "\n",
    "electric_data['value'] = electric_data.apply(\n",
    "    lambda row: 0 if not np.all(pd.notnull(row['value'])) and row['category'] == 'Capacity' else row['value'],\n",
    "    axis=1)\n",
    "\n",
    "\n"
   ]
  },
  {
   "cell_type": "code",
   "execution_count": 22,
   "id": "7277d810",
   "metadata": {},
   "outputs": [
    {
     "data": {
      "text/plain": [
       "area                  0\n",
       "country_code          0\n",
       "year                  0\n",
       "area_type             0\n",
       "continent             0\n",
       "ember_region          0\n",
       "eu                    0\n",
       "oecd                  0\n",
       "G20                   0\n",
       "G7                    0\n",
       "category              0\n",
       "subcategory           0\n",
       "variable              0\n",
       "unit                  0\n",
       "value              1557\n",
       "yoy_abs_change    70734\n",
       "dtype: int64"
      ]
     },
     "execution_count": 22,
     "metadata": {},
     "output_type": "execute_result"
    }
   ],
   "source": [
    "electric_data.isna().sum()"
   ]
  },
  {
   "cell_type": "markdown",
   "id": "57bf6e57",
   "metadata": {},
   "source": [
    "Similarly, granular factual data points in other categories such Power Sector Emissions, Electricity Generation data from multiple small countries is also missing for the entire data collection period - for e.g., \n",
    "1)emissions in Bermuda caused by Gas & other fossil fuels for the year 2005 \n",
    "2)% of electricity generated in Gibraltar by using Hydro electrictiy in 2001\n",
    "\n",
    "To avoid any distortions to the data set, such values have also been filled as 0"
   ]
  },
  {
   "cell_type": "code",
   "execution_count": null,
   "id": "4416088c",
   "metadata": {},
   "outputs": [],
   "source": [
    "\n",
    "# power sector emissions data is missing for few countries (around 400 rows), setting value, yoy abs and % change as 0\n",
    "electric_data['yoy_abs_change'] = electric_data.apply(\n",
    "    lambda row: 0 if not np.all(pd.notnull(row['value'])) and row['category'] == 'Power sector emissions' else row['yoy_abs_change'],\n",
    "    axis=1)\n",
    "\n",
    "\n",
    "electric_data['value'] = electric_data.apply(\n",
    "    lambda row: 0 if not np.all(pd.notnull(row['value'])) and row['category'] == 'Power sector emissions' else row['value'],\n",
    "    axis=1)\n",
    "\n",
    "\n",
    "# if there is no data for electricity generation percentage distribution across fuel types, \n",
    "# assign those as 0 as we cannot assign mean or median values to granular percentage distribution data\n",
    "electric_data['yoy_abs_change'] = electric_data.apply(\n",
    "    lambda row: 0 if not np.all(pd.notnull(row['value'])) and row['category']=='Electricity generation' \n",
    "    and row['unit'] == '%' else row['yoy_abs_change'],\n",
    "    axis=1)\n",
    "\n",
    "electric_data['value'] = electric_data.apply(\n",
    "    lambda row: 0 if not np.all(pd.notnull(row['value'])) and row['category']=='Electricity generation' \n",
    "    and row['unit'] == '%' else row['value'],\n",
    "    axis=1)\n",
    "\n",
    "electric_data['yoy_abs_change'] = electric_data.apply(\n",
    "    lambda row: 0 if not np.all(pd.notnull(row['value'])) and row['category']=='Electricity demand' else row['yoy_abs_change'],\n",
    "    axis=1)\n",
    "\n",
    "electric_data['value'] = electric_data.apply(\n",
    "    lambda row: 0 if not np.all(pd.notnull(row['value'])) and row['category']=='Electricity demand' else row['value'],\n",
    "    axis=1)\n",
    "\n"
   ]
  },
  {
   "cell_type": "code",
   "execution_count": null,
   "id": "8d3ff064",
   "metadata": {},
   "outputs": [],
   "source": [
    "electric_data.isna().sum()"
   ]
  },
  {
   "cell_type": "markdown",
   "id": "d7de5ff2",
   "metadata": {},
   "source": [
    "For percentage data, i.e. when unit column equals %, the column for absoloute change yoy_abs_change is irrelevant since values are in percentages, thus assigning the values for column yoy_abs_change as 0"
   ]
  },
  {
   "cell_type": "code",
   "execution_count": null,
   "id": "a8b7f2ad",
   "metadata": {},
   "outputs": [],
   "source": [
    "electric_data['yoy_abs_change'] = electric_data.apply(\n",
    "    lambda row: 0 if row['unit'] == '%' else row['yoy_abs_change'],\n",
    "    axis=1)\n",
    "\n",
    "electric_data['yoy_abs_change'].fillna(0, inplace=True)\n",
    "electric_data['value'].fillna(0, inplace=True)\n"
   ]
  },
  {
   "cell_type": "code",
   "execution_count": null,
   "id": "b4794b60",
   "metadata": {},
   "outputs": [],
   "source": [
    "electric_data.isna().sum()"
   ]
  },
  {
   "cell_type": "markdown",
   "id": "e17fdff0",
   "metadata": {},
   "source": [
    "## Exporting Cleaned Data and Re-importing the cleaned data into a new dataframe"
   ]
  },
  {
   "cell_type": "code",
   "execution_count": null,
   "id": "69a26b29",
   "metadata": {},
   "outputs": [],
   "source": [
    "electric_data.to_csv('cleaned_data_2.csv', encoding='utf-8')"
   ]
  },
  {
   "cell_type": "code",
   "execution_count": null,
   "id": "e62ee317",
   "metadata": {},
   "outputs": [],
   "source": [
    "cleaned_df = pd.read_csv(\"cleaned_data_2.csv\", encoding='utf-8')"
   ]
  },
  {
   "cell_type": "markdown",
   "id": "0878a9ab",
   "metadata": {},
   "source": [
    "## Visualizations \n",
    "\n",
    "Visualizations have been done using the column - 'value'. Values from other columns such as 'category' and 'subcategoy' have been chosen and each visualizations describes the rows and columns used."
   ]
  },
  {
   "cell_type": "markdown",
   "id": "bf814a55",
   "metadata": {},
   "source": [
    "### Bar Graph of Electricity Generation data (Fossil fuels vs Clean fuels) for Asia region\n",
    "\n",
    "Electricity Generation Data for sub-category Aggregate fuel has been visualized for the continent Asia in a stacked bar graph as shown below: "
   ]
  },
  {
   "cell_type": "code",
   "execution_count": null,
   "id": "217eaa09",
   "metadata": {},
   "outputs": [],
   "source": [
    "#data for fossil\n",
    "\n",
    "#applying filters\n",
    "bargraph_df1 = cleaned_df.query(\"continent == 'Asia' and category == 'Electricity generation' and subcategory == 'Aggregate fuel' and variable == 'Fossil' and unit == 'TWh'\")\n",
    "\n",
    "years = cleaned_df['year'].unique().tolist()\n",
    "\n",
    "\n",
    "#sum of values from fossil fuels of each country in Asia per year\n",
    "yearlyValueForAsia = []\n",
    "for year in years:\n",
    "    yearlyValueForAsia.append(bargraph_df1[bargraph_df1.year.isin([year])]['value'].sum())\n",
    "    \n",
    "\n",
    "\n",
    "# plt.bar(years, yearlyValueForAsia) \n",
    "\n",
    "\n",
    "#creating dataframe\n",
    "data = [ (years[yearlyValueForAsia.index(x)], 'Fossil', x) for x in yearlyValueForAsia]\n",
    "df1 = pd.DataFrame(data, columns=['Year', 'Type', 'Value'])\n",
    "\n",
    "#data for clean\n",
    "\n",
    "#applying filters\n",
    "bargraph_df2 = cleaned_df.query(\"continent == 'Asia' and category == 'Electricity generation' and subcategory == 'Aggregate fuel' and variable == 'Clean' and unit == 'TWh'\")\n",
    "\n",
    "#sum of values from clean fuels of each country in Asia per year\n",
    "yearlyValueForAsia = []\n",
    "for year in years:\n",
    "    yearlyValueForAsia.append(bargraph_df2[bargraph_df2.year.isin([year])]['value'].sum())\n",
    "    \n",
    "\n",
    "# plt.bar(years, yearlyValueForAsia) \n",
    "\n",
    "#creating dataframe\n",
    "data = [ (years[yearlyValueForAsia.index(x)], 'Clean', x) for x in yearlyValueForAsia]\n",
    "df2 = pd.DataFrame(data, columns=['Year', 'Type', 'Value'])\n",
    "\n",
    "#Creating stacked bar plot \n",
    "#concatenating the dataframes\n",
    "concatDF = pd.concat([df1, df2])\n",
    "concatDF\n",
    "pivot = pd.pivot_table(data=concatDF, index=['Year'], columns=['Type'], values='Value')\n",
    "fig = pivot.plot.bar(stacked=True)\n",
    "fig.set_xlabel(\"Years\")\n",
    "fig.set_ylabel(\"Electricity generation in TWh\")\n",
    "fig.set_title(\"Electricity generation of Asia from 2000 to 2021\")"
   ]
  },
  {
   "cell_type": "markdown",
   "id": "7a92c923",
   "metadata": {},
   "source": [
    "#### Inference\n",
    "It can be seen that the electricity generation for both fossil and clean fuel has been on the rise from 2000 to 2021. We can also see that there is an increase in the usage of clean fuel over the years, which means that countries in Asia are slowly switching to clean fuels instead of fossil fuels for electricity genereation, but fossil fuels still remain the dominant choice."
   ]
  },
  {
   "cell_type": "markdown",
   "id": "c1f2c12f",
   "metadata": {},
   "source": [
    "### Pie Chart showing comparsion of Electricity Generated using various sources \n",
    "\n",
    "In the below Pie Charts, we have compared detailed breakdowns of Electricity Generation data for for 2 countries - India, which is considered to have a developing economy and USA, which is considered to be a developed economy, for the years 2000 and 2021.\n",
    "This helps us understand the changes in choice of Fuels used to generated electricity made by those 2 countries over 20 years and also how those 2 countries compared to each other in 2000 and 2021.\n",
    "\n"
   ]
  },
  {
   "cell_type": "code",
   "execution_count": null,
   "id": "0dde896a",
   "metadata": {},
   "outputs": [],
   "source": [
    "#Creating a data frame with only required Column's\n",
    "df=electric_data.filter(items=['country_code','year', 'subcategory','variable','unit','value']) \n",
    "#Creating a dataframe with required filters\n",
    "df1=df[(df['country_code'] == 'IND') & (df['year'] == 2000) & (df['subcategory'] =='Fuel') & (df['unit']=='%')] \n",
    "#Converting the Column data to List\n",
    "lst=df1[df1.columns[5]].values.tolist()   \n",
    "len1=len(lst)\n",
    "first_half = lst[:len1//2]\n",
    "lstla=df1[df1.columns[3]].values.tolist() \n",
    "len2=len(lstla)\n",
    "second_half = lstla[:len2//2]  \n",
    "#Applying Filters for the Piechart\n",
    "plt.title('Electricity Generated using Fuel by India in 2000',pad=82)\n",
    "plt.pie(lst ,shadow = True, startangle=180,\n",
    "        radius = 2, autopct = '%1.1f%%')     \n",
    "plt.legend(lstla, loc=\"upper right\",bbox_to_anchor=(1.25,1),bbox_transform=plt.gcf().transFigure) \n",
    "# showing the plot\n",
    "plt.show()                                 \n",
    "\n",
    "\n",
    "df=electric_data.filter(items=['country_code','year', 'subcategory','variable','unit','value']) #Creating a data frame with only required Column's\n",
    "df1=df[(df['country_code'] == 'IND') & (df['year'] == 2021) & (df['subcategory'] =='Fuel') & (df['unit']=='%')] #Creating a dataframe with required filters\n",
    "lst=df1[df1.columns[5]].values.tolist() #Converting the Column data to List\n",
    "len1=len(lst)\n",
    "first_half = lst[:len1//2]\n",
    "lstla=df1[df1.columns[3]].values.tolist() \n",
    "len2=len(lstla)\n",
    "second_half = lstla[:len2//2]  \n",
    "plt.title('Electricity Generated using Fuel by India in 2021',pad=82)\n",
    "plt.pie(lst ,shadow = True, startangle=180,\n",
    "        radius = 2, autopct = '%1.1f%%')   #Applying Filters for the Piechart  \n",
    "plt.legend(lstla, loc=\"upper right\",bbox_to_anchor=(1.25,1),bbox_transform=plt.gcf().transFigure) \n",
    "plt.show()  # showing the plot"
   ]
  },
  {
   "cell_type": "code",
   "execution_count": null,
   "id": "dc183ac2",
   "metadata": {},
   "outputs": [],
   "source": [
    "df=electric_data.filter(items=['country_code','year', 'subcategory','variable','unit','value'])  #Creating a data frame with only required Column's\n",
    "df1=df[(df['country_code'] == 'USA') & (df['year'] == 2000) & (df['subcategory'] =='Fuel') & (df['unit']=='%')]  #Creating a dataframe with required filters\n",
    "lst=df1[df1.columns[5]].values.tolist() #Converting the Column data to List\n",
    "len1=len(lst)\n",
    "first_half = lst[:len1//2]\n",
    "lstla=df1[df1.columns[3]].values.tolist() \n",
    "len2=len(lstla)\n",
    "second_half = lstla[:len2//2]  \n",
    "plt.title('Electricity Generated using Fuel by USA in 2000',pad=82)\n",
    "plt.pie(lst ,shadow = True, startangle=180,\n",
    "        radius = 2, autopct = '%1.1f%%')   #Applying Filters for the Piechart  \n",
    "plt.legend(lstla, loc=\"upper right\",bbox_to_anchor=(1.25,1),bbox_transform=plt.gcf().transFigure) \n",
    "plt.show()  # showing the plot\n",
    "\n",
    "df=electric_data.filter(items=['country_code','year', 'subcategory','variable','unit','value'])  #Creating a data frame with only required Column's\n",
    "df1=df[(df['country_code'] == 'USA') & (df['year'] == 2021) & (df['subcategory'] =='Fuel') & (df['unit']=='%')] #Creating a dataframe with required filters\n",
    "lst=df1[df1.columns[5]].values.tolist() #Converting the Column data to List\n",
    "len1=len(lst)\n",
    "first_half = lst[:len1//2]\n",
    "lstla=df1[df1.columns[3]].values.tolist() \n",
    "len2=len(lstla)\n",
    "second_half = lstla[:len2//2]  \n",
    "plt.title('Electricity Generated using Fuel by USA in 2021',pad=82)\n",
    "plt.pie(lst ,shadow = True, startangle=180,\n",
    "        radius = 2, autopct = '%1.1f%%')   #Applying Filters for the Piechart  \n",
    "plt.legend(lstla, loc=\"upper right\",bbox_to_anchor=(1.25,1),bbox_transform=plt.gcf().transFigure) \n",
    "plt.show()  # showing the plot"
   ]
  },
  {
   "cell_type": "markdown",
   "id": "8b32ecf6",
   "metadata": {},
   "source": [
    "#### Inference\n",
    "\n",
    "The above pie charts show that the developing country India has been majorly using Coal (likely because of lower cost and easier availbility) to produce electricity followed by Hydro and then Natural Gas both in 2000 and 2021. On the other hand, the developed country USA has transitioned away from Coal towards relatively cleaner Natural Gas to generate its electricity."
   ]
  },
  {
   "cell_type": "markdown",
   "id": "b5b26002",
   "metadata": {},
   "source": [
    "### Line Graph for Electricity Demand and Demand per capita across all continents over 20 years\n",
    "\n",
    "Below line graphs show Electricity Demand and Demand per capita from 2000 to 2021 for all 6 continents - Asia, Africa, North America, Latin America, Oceania and Europe."
   ]
  },
  {
   "cell_type": "code",
   "execution_count": null,
   "id": "d0ec57dc",
   "metadata": {},
   "outputs": [],
   "source": [
    "#linegraph-demand\n",
    "#applying filters for each area\n",
    "linegraphAfrica_df1 = cleaned_df.query(\"area == 'Africa' and area_type == 'Region' and category == 'Electricity demand' and subcategory == 'Demand' and unit == 'TWh'\")\n",
    "linegraphAsia_df1 = cleaned_df.query(\"area == 'Asia' and area_type == 'Region' and category == 'Electricity demand' and subcategory == 'Demand' and unit == 'TWh'\")\n",
    "linegraphEurope_df1 = cleaned_df.query(\"area == 'Europe' and area_type == 'Region' and category == 'Electricity demand' and subcategory == 'Demand' and unit == 'TWh'\")\n",
    "linegraphLAC_df1 = cleaned_df.query(\"area == 'Latin America and Caribbean' and area_type == 'Region' and category == 'Electricity demand' and subcategory == 'Demand' and unit == 'TWh'\")\n",
    "linegraphNA_df1 = cleaned_df.query(\"area == 'North America' and area_type == 'Region' and category == 'Electricity demand' and subcategory == 'Demand' and unit == 'TWh'\")\n",
    "linegraphOceania_df1 = cleaned_df.query(\"area == 'Oceania' and area_type == 'Region' and category == 'Electricity demand' and subcategory == 'Demand' and unit == 'TWh'\")\n",
    "\n",
    "#plotting linegraph for each area\n",
    "\n",
    "f = plt.figure()\n",
    "f.set_figwidth(10)\n",
    "f.set_figheight(7)\n",
    "\n",
    "plt.title('Demand')\n",
    "plt.xlabel('Years')\n",
    "plt.ylabel('TWh')\n",
    "plt.plot(years, linegraphAfrica_df1['value'], label = 'Africa')\n",
    "plt.plot(years, linegraphAsia_df1['value'], label = 'Asia')\n",
    "plt.plot(years, linegraphEurope_df1['value'], label = 'Europe')\n",
    "plt.plot(years, linegraphLAC_df1['value'], label = 'Latin America and Caribbean')\n",
    "plt.plot(years, linegraphNA_df1['value'], label = 'North America')\n",
    "plt.plot(years, linegraphOceania_df1['value'], label = 'Oceania')\n",
    "plt.legend(prop={'size': 8})\n",
    "\n",
    "\n",
    "#linegraph-demand per capita\n",
    "#applying filters for each area\n",
    "linegraphAfrica_df2 = cleaned_df.query(\"area == 'Africa' and area_type == 'Region' and category == 'Electricity demand' and subcategory == 'Demand per capita' and unit == 'MWh'\")\n",
    "linegraphAsia_df2 = cleaned_df.query(\"area == 'Asia' and area_type == 'Region' and category == 'Electricity demand' and subcategory == 'Demand per capita' and unit == 'MWh'\")\n",
    "linegraphEurope_df2 = cleaned_df.query(\"area == 'Europe' and area_type == 'Region' and category == 'Electricity demand' and subcategory == 'Demand per capita' and unit == 'MWh'\")\n",
    "linegraphLAC_df2 = cleaned_df.query(\"area == 'Latin America and Caribbean' and area_type == 'Region' and category == 'Electricity demand' and subcategory == 'Demand per capita' and unit == 'MWh'\")\n",
    "linegraphNA_df2 = cleaned_df.query(\"area == 'North America' and area_type == 'Region' and category == 'Electricity demand' and subcategory == 'Demand per capita' and unit == 'MWh'\")\n",
    "linegraphOceania_df2 = cleaned_df.query(\"area == 'Oceania' and area_type == 'Region' and category == 'Electricity demand' and subcategory == 'Demand per capita' and unit == 'MWh'\")\n",
    "\n",
    "#plotting linegraph for each area\n",
    "\n",
    "f = plt.figure()\n",
    "f.set_figwidth(10)\n",
    "f.set_figheight(7)\n",
    "\n",
    "\n",
    "plt.title('Demand per capita')\n",
    "plt.xlabel('Years')\n",
    "plt.ylabel('MWh')\n",
    "plt.plot(years, linegraphAfrica_df2['value'], label = 'Africa')\n",
    "plt.plot(years, linegraphAsia_df2['value'], label = 'Asia')\n",
    "plt.plot(years, linegraphEurope_df2['value'], label = 'Europe')\n",
    "plt.plot(years, linegraphLAC_df2['value'], label = 'Latin America and Caribbean')\n",
    "plt.plot(years, linegraphNA_df2['value'], label = 'North America')\n",
    "plt.plot(years, linegraphOceania_df2['value'], label = 'Oceania')\n",
    "plt.legend(prop={'size': 8})\n"
   ]
  },
  {
   "cell_type": "markdown",
   "id": "0cc81d7f",
   "metadata": {},
   "source": [
    "#### Inference\n",
    "\n",
    "Although the line for Asia in the Demand graph is significantly steeper, the Demand per capita line shows a relatively slower rise for Asia and it is the more developed regions like North America, Europe and Oceania (which has developed countries like Australia and New Zealand) that have the highest Electricity Demand on a per capita basis."
   ]
  },
  {
   "cell_type": "markdown",
   "id": "f78cd23e",
   "metadata": {},
   "source": [
    "### Scatter Plot showing Total Emissions and Emissions Intensity for the 4 highest GDP countries \n",
    "\n",
    "Below 2 scatter plots show Total Emissions from the generation of electricity (in metric tons of CO2) and the Emissions Intensity (in grams of CO2 per kiloWatt-hour of electricity generated) for the 4 countries with the highest GDP in 2022.\n"
   ]
  },
  {
   "cell_type": "code",
   "execution_count": null,
   "id": "13250cbd",
   "metadata": {},
   "outputs": [],
   "source": [
    "#scatterplot Total\n",
    "\n",
    "#applying filters for each country\n",
    "scatterplotchina_df2 = cleaned_df.query(\"area == 'China' and category == 'Power sector emissions' and subcategory == 'Total' and variable == 'Total emissions' and unit == 'mtCO2'\")\n",
    "scatterplotgermany_df2 = cleaned_df.query(\"area == 'Germany' and category == 'Power sector emissions' and subcategory == 'Total' and variable == 'Total emissions' and unit == 'mtCO2'\")\n",
    "scatterplotjapan_df2 = cleaned_df.query(\"area == 'Japan' and category == 'Power sector emissions' and subcategory == 'Total' and variable == 'Total emissions' and unit == 'mtCO2'\")\n",
    "scatterplotusa_df2 = cleaned_df.query(\"area == 'United States of America' and category == 'Power sector emissions' and subcategory == 'Total' and variable == 'Total emissions' and unit == 'mtCO2'\")\n",
    "\n",
    "#plotting scatterplot for each country\n",
    "plt.scatter(years, scatterplotchina_df2['value'], marker='o', label = 'China')\n",
    "plt.scatter(years, scatterplotgermany_df2['value'], marker='o', label = 'Germany')\n",
    "plt.scatter(years, scatterplotjapan_df2['value'], marker='o', label = 'Japan')\n",
    "plt.scatter(years, scatterplotusa_df2['value'], marker='o', label = 'USA')\n",
    "plt.legend(prop={'size': 8})\n",
    "plt.title('Total Emissions in the highest GDP Countries')\n",
    "plt.xlabel('Years')\n",
    "plt.ylabel('Emission in mtCO2')\n",
    "plt.show()\n"
   ]
  },
  {
   "cell_type": "code",
   "execution_count": null,
   "id": "372033fc",
   "metadata": {},
   "outputs": [],
   "source": [
    "#scatterplot CO2 intensity\n",
    "\n",
    "#applying filters for each country\n",
    "scatterplotchina_df1 = cleaned_df.query(\"area == 'China' and category == 'Power sector emissions' and subcategory == 'CO2 intensity' and variable == 'CO2 intensity' and unit == 'gCO2/kWh'\")\n",
    "scatterplotgermany_df1 = cleaned_df.query(\"area == 'Germany' and category == 'Power sector emissions' and subcategory == 'CO2 intensity' and variable == 'CO2 intensity' and unit == 'gCO2/kWh'\")\n",
    "scatterplotjapan_df1 = cleaned_df.query(\"area == 'Japan' and category == 'Power sector emissions' and subcategory == 'CO2 intensity' and variable == 'CO2 intensity' and unit == 'gCO2/kWh'\")\n",
    "scatterplotusa_df1 = cleaned_df.query(\"area == 'United States of America' and category == 'Power sector emissions' and subcategory == 'CO2 intensity' and variable == 'CO2 intensity' and unit == 'gCO2/kWh'\")\n",
    "\n",
    "#plotting scatterplot for each country\n",
    "plt.scatter(years, scatterplotchina_df1['value'], marker='o', label = 'China')\n",
    "plt.scatter(years, scatterplotgermany_df1['value'], marker='o', label = 'Germany')\n",
    "plt.scatter(years, scatterplotjapan_df1['value'], marker='o', label = 'Japan')\n",
    "plt.scatter(years, scatterplotusa_df1['value'], marker='o', label = 'USA')\n",
    "plt.legend(prop={'size': 8})\n",
    "plt.title('CO2 Emissions intensity in the highest GDP Countries')\n",
    "plt.xlabel('Years')\n",
    "plt.ylabel('Emission in gCO2/kWh')\n",
    "plt.show()\n"
   ]
  },
  {
   "cell_type": "markdown",
   "id": "5fadcd9f",
   "metadata": {},
   "source": [
    "#### Inferences\n",
    "\n",
    "1. Total Emissions Plot: The total emissions of countries except China is almost stagnant. China is the country with the highest emissions and it is also on the rise, most likely because its economy has seen a great rise in the past 2 decades.\n",
    "2. Emissions Intensity Plot:  The CO2 emission intensity of the countries is on a decline. Only Japan saw a major increase in 2012, which could be because of the Fukushima nuclear accident. After the accident Japan's nuclear power supply got severly affected which made them consume more coal and natural gas power and thus resulted in an increase in CO2 emissions"
   ]
  },
  {
   "cell_type": "markdown",
   "id": "0edb68f2",
   "metadata": {},
   "source": [
    "### Histogram showing trend of Emissions across all countries for 2000 and 2021\n",
    "\n",
    "Below histograms show the number of countires grouped as per their Total Emissions in metric tons of CO2 for 2 years 2000 and 2021.\n",
    "The linear scale histograms clearly show that the data is skewed and thus, to further enhance the visualization, we have plotted the same histograms using logarithmic scale on the X-axis. "
   ]
  },
  {
   "cell_type": "code",
   "execution_count": null,
   "id": "509ecb0a",
   "metadata": {},
   "outputs": [],
   "source": [
    "# Histogram cell\n",
    "\n",
    "def plot_linear_and_log_histograms_for_year(year):\n",
    "    \n",
    "    emissions = cleaned_df.query(\"area_type == 'Country' and year == @year and category == 'Power sector emissions' and subcategory == 'Total' and variable == 'Total emissions'\")[\"value\"].tolist()\n",
    "    # setting the ranges and no. of intervals \n",
    "    my_range = (0, round(max(emissions) + 1)) \n",
    "    bins = 10\n",
    "\n",
    "    # plotting a histogram \n",
    "    hist, bins, _ = plt.hist(emissions, bins, my_range,color = 'orange', histtype = 'bar', rwidth = 0.8) \n",
    "\n",
    "    # x-axis label \n",
    "    plt.xlabel('Total Emissions (mtCO2)') \n",
    "\n",
    "    # frequency label \n",
    "    plt.ylabel('Number of Countries') \n",
    "\n",
    "    # plot title \n",
    "    plt.title(str(year) + ' Emissions Distribution (Linear Scale)')\n",
    "\n",
    "    plt.show()\n",
    "\n",
    "    # histogram on log scale. \n",
    "    logbins = np.logspace(0.01,np.log10(bins[-1]),len(bins))\n",
    "\n",
    "    plt.hist(emissions, logbins,  my_range,color = 'orange', histtype = 'bar', rwidth = 0.8)\n",
    "\n",
    "    plt.xscale('log')\n",
    "\n",
    "    # x-axis label \n",
    "    plt.xlabel('Total Emissions (mtCO2)') \n",
    "\n",
    "    # frequency label \n",
    "    plt.ylabel('Number of Countries') \n",
    "\n",
    "    # plot title \n",
    "    plt.title(str(year) + ' Emissions Distribution (Logarithmic Scale)')\n",
    "\n",
    "    # function to show the plot \n",
    "    plt.show() \n",
    "\n",
    "\n",
    "plot_linear_and_log_histograms_for_year(2000)\n",
    "plot_linear_and_log_histograms_for_year(2021)\n",
    "\n"
   ]
  },
  {
   "cell_type": "markdown",
   "id": "7789691b",
   "metadata": {},
   "source": [
    "#### Inferences\n",
    "\n",
    "From the linear scale graphs, we can see that the highest emission values have doubled (from around 2000 mtCO2 to above 4000 mtCO2) in 2021 as compared to 2020. Also, the logarithmic graphs show that the number of countries in each emission bucket (1-10, 10-100) have also increased. \n",
    "Both these observations clearly indicate that the global emissions in mtCO2 have significantly increased in the past 20 years.  "
   ]
  },
  {
   "cell_type": "markdown",
   "id": "55436a5d",
   "metadata": {},
   "source": [
    "### Box Plot showing regional emissions distribution as per hemispheres (Northern and Southern)\n",
    "\n",
    "Below box plots show region-wise emissions data for the 3 major regions in each hemisphere - \n",
    "1. Asia, Europe and North America for the Northern Hemisphere\n",
    "2. Africa, Latin America and Oceanis for the Southern Hemisphere\n"
   ]
  },
  {
   "cell_type": "code",
   "execution_count": null,
   "id": "9415d8b9",
   "metadata": {},
   "outputs": [],
   "source": [
    "# boxplot cell\n",
    "\n",
    "northern_hemishpere_regions = ['Asia','Europe','North America']\n",
    "\n",
    "boxplot_df = cleaned_df.query(\"area_type == 'Region' and area == @northern_hemishpere_regions and category == 'Power sector emissions' and subcategory == 'Total' and variable == 'Total emissions'\")\n",
    "\n",
    "df = boxplot_df[['area','year','value']]\n",
    "\n",
    "my_dict=df.groupby('area')['value'].apply(list).to_dict()\n",
    "\n",
    "fig, ax = plt.subplots()\n",
    "ax.boxplot(my_dict.values())\n",
    "ax.set_xticklabels(my_dict.keys())\n",
    "plt.ylabel('mtCO2')\n",
    "plt.title('Emissions Boxplot between 2000 and 2021 (Northern Hemishpere)')\n",
    "\n",
    "\n",
    "\n",
    "southern_hemishpere_regions = ['Africa','Oceania','Latin America and Caribbean']\n",
    "boxplot_df = cleaned_df.query(\"area_type == 'Region' and area == @southern_hemishpere_regions and category == 'Power sector emissions' and subcategory == 'Total' and variable == 'Total emissions'\")\n",
    "\n",
    "# print(boxplot_df.shape)\n",
    "\n",
    "df = boxplot_df[['area','year','value']]\n",
    "\n",
    "my_dict=df.groupby('area')['value'].apply(list).to_dict()\n",
    "\n",
    "fig, ax = plt.subplots()\n",
    "x = ax.boxplot(my_dict.values())\n",
    "\n",
    "ax.set_xticklabels(my_dict.keys())\n",
    "plt.ylabel('mtCO2')\n",
    "plt.title('Emissions Boxplot between 2000 and 2021 (Southern Hemishpere)')\n",
    "\n",
    "plt.show()\n",
    "\n"
   ]
  },
  {
   "cell_type": "markdown",
   "id": "b98c4994",
   "metadata": {},
   "source": [
    "#### Inferences\n",
    "\n",
    "Median Emissions for the northern hemisphere are significantly larger than those for the southern hemisphere. This makes sense as the northern hemisphere has a significantly higher population than the southern hemisphere, and there are 2 major developing economies in Asia - namely India and China, which have been especially driving the emission numbers up for Asia, thus explaining the highest median emissions in the Northern hemisphere"
   ]
  },
  {
   "cell_type": "markdown",
   "id": "717e8dbc",
   "metadata": {},
   "source": [
    "### Heat Map showing Emissions Intensity (in grams of CO2 per kiloWatt-hour of Electricity generated)\n",
    "\n",
    "Below heat map shows the emissions intensity in each of the six continents in the world - Asia, Africa, North America, South America, Oceania and Europe plotted for each year between 2000 and 2021.\n"
   ]
  },
  {
   "cell_type": "code",
   "execution_count": null,
   "id": "f21a9fa2",
   "metadata": {},
   "outputs": [],
   "source": [
    "continents = ['Europe','North America','Latin America and Caribbean','Asia','Africa','Oceania']\n",
    "heatmap_df = cleaned_df.query(\"area_type == 'Region' and area==@continents and category == 'Power sector emissions' and subcategory == 'CO2 intensity' and variable == 'CO2 intensity'\")\n",
    "\n",
    "df = heatmap_df[['area','year','value']]\n",
    "\n",
    "my_data=df.groupby('area')['value'].apply(list).tolist()\n",
    "\n",
    "regions=list(df.groupby('area')['value'].apply(list).to_dict().keys())\n",
    "\n",
    "years = df['year'].unique().tolist()\n",
    "\n",
    "arr = np.array(my_data)\n",
    "\n",
    "fig, ax = plt.subplots(figsize=(20,20))\n",
    "im = ax.imshow(arr, cmap=\"YlOrRd\")\n",
    "cbar = ax.figure.colorbar(im,\n",
    "                          ax=ax,\n",
    "                          shrink=0.2 )\n",
    "\n",
    "# Show all ticks and label them with the respective list entries\n",
    "ax.set_yticks(np.arange(len(regions)), labels=regions)\n",
    "ax.set_xticks(np.arange(len(years)), labels=years)\n",
    "\n",
    "\n",
    "ax.set_title(\"CO2 Emissions Intensity over 20 years for all 6 continents (in gCO2/kWh)\")\n",
    "plt.show()\n"
   ]
  },
  {
   "cell_type": "markdown",
   "id": "39fb4b1b",
   "metadata": {},
   "source": [
    "#### Inferences\n",
    "\n",
    "The heatmap shows that for developed regions like Europe, North America and Oceania, there has been a clear decline in emissions intensity from 2000 to 2021, indicating a transition towards cleaner sources of fuel generation. The same trend is also seen for Africa and Latin America, however the values for Africa are still higher than developed regions.\n",
    "Furthermore, for Asia, we see that the emissions intensity actually was highest in 2013 after which it has seen a decline till 2021, but even then the value for 2021 looks roughly the same as that in 2000."
   ]
  },
  {
   "cell_type": "markdown",
   "id": "837483e4",
   "metadata": {},
   "source": [
    "## Conclusion\n",
    "As per the above plots, since developing regions such as Asia and Africa show higher emissions than developed regions like North America and Europe and also have greater intensity of CO2 emissions per kWh of electricity consumed. we can conclude that the transition towards using cleaner forms of energy such as Wind, Solar, Hydro and Nuclear in developing regions still has a long way to go, and currently these regions appear to be amongst the bigger drivers of climate change. However, like we saw in the line graphs of Electricity Demand and Demand per Capita, additional data such as Power Emissions per capita for each of the countries could show a different picture as these developing regions have large populations."
   ]
  },
  {
   "cell_type": "markdown",
   "id": "9ee0afbb",
   "metadata": {},
   "source": [
    "## Recommendations\n",
    "\n",
    "1. Per capita data for Power Sector Emissions (in mtCO2) and CO2 Intensity of Emissions (in gCO2/kWh) for all countries and regions should be added so as to enable a better analysis and comparison of the actual emssions and emission intensity per person for every country.\n",
    "2. Having GDP information for countries and regions could help determine important metrics such as the ratio of total emissions to GDP which would show the trend of emissions growth vs GDP growth"
   ]
  }
 ],
 "metadata": {
  "kernelspec": {
   "display_name": "Python 3 (ipykernel)",
   "language": "python",
   "name": "python3"
  },
  "language_info": {
   "codemirror_mode": {
    "name": "ipython",
    "version": 3
   },
   "file_extension": ".py",
   "mimetype": "text/x-python",
   "name": "python",
   "nbconvert_exporter": "python",
   "pygments_lexer": "ipython3",
   "version": "3.9.12"
  }
 },
 "nbformat": 4,
 "nbformat_minor": 5
}
